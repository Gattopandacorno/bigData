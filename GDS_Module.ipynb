{
 "cells": [
  {
   "cell_type": "markdown",
   "metadata": {},
   "source": [
    "## CREAZIONE DELL'AMBIENTE DI LAVORO"
   ]
  },
  {
   "cell_type": "markdown",
   "metadata": {},
   "source": [
    "#### ACQUISIZIONE DEL DATASET"
   ]
  },
  {
   "cell_type": "code",
   "execution_count": 10,
   "metadata": {},
   "outputs": [
    {
     "name": "stdout",
     "output_type": "stream",
     "text": [
      "Dataset URL: https://www.kaggle.com/datasets/bhanupratapbiswas/instgram\n",
      "License(s): ODC Public Domain Dedication and Licence (PDDL)\n",
      "Downloading instgram.zip to ./data\n",
      "100%|█████████████████████████████████████████| 151k/151k [00:00<00:00, 523kB/s]\n",
      "100%|█████████████████████████████████████████| 151k/151k [00:00<00:00, 521kB/s]\n"
     ]
    }
   ],
   "source": [
    "import os\n",
    "\n",
    "# NB: come scritto nel readme questa parte non è fondamentale se ci sono gia' i file\n",
    "# necessari nella cartella /data/\n",
    "\n",
    "# Cambiare le credenziali kaggle per poter scaricare i dati\n",
    "# Si uncommenti e si cambino le stringhe con le proprie credenziali\n",
    "# os.environ['KAGGLE_USERNAME'] = \"your_username\"\n",
    "# os.environ['KAGGLE_KEY'] = \"your_password\"\n",
    "\n",
    "# Download di tutti i file .csv presenti nel dataset di instgram\n",
    "!kaggle datasets download -p ./data -d bhanupratapbiswas/instgram --unzip "
   ]
  },
  {
   "cell_type": "markdown",
   "metadata": {},
   "source": [
    "#### CONTAINER NEO4J\n",
    "\n",
    "Per fare il build e lo start del container di neo4j (si parte dalla empty sandbox) si deve far girare nella cartella del progetto contente `docker-compose.yml` il comando riportato di seguito.\n",
    "```bash\n",
    "sudo docker-compose up\n",
    "```\n",
    "\n",
    "**NB**: Nell'ambiente di visual studio non si riesce, purtroppo, a far girare comandi di questo tipo in modo interattivo (nessuna possibilità di immettere la password).\n",
    "Si e' anche valutato se mettere la password in un file .env e richiamarla da riga di comando ma non sarebbe stata sicura. Per questo si richiede all'utente di immeterlo da terminale.\n",
    "\n",
    "Prima di continuare aspettare la conferma dell'avvio del container, come in figura:\n",
    "![container neo4j](media/container_start.png)"
   ]
  },
  {
   "cell_type": "markdown",
   "metadata": {},
   "source": [
    "#### CONNESSIONE AL DATABASE"
   ]
  },
  {
   "cell_type": "code",
   "execution_count": 17,
   "metadata": {},
   "outputs": [],
   "source": [
    "from neo4j import GraphDatabase as gd\n",
    "\n",
    "# Prima di arrivare a questo punto si controlli di aver correttamente attivato il container\n",
    "# Nel caso in cui ci siano dubbi su ip/porta da usare si controlli nel log docker alla voce \"bolt\"\n",
    "URI = \"bolt://localhost:7688\" \n",
    "\n",
    "d   = gd.driver(URI, auth=None)\n",
    "d.verify_connectivity()\n"
   ]
  },
  {
   "cell_type": "markdown",
   "metadata": {},
   "source": [
    "#### CREAZIONE DATABASE"
   ]
  },
  {
   "cell_type": "code",
   "execution_count": 28,
   "metadata": {},
   "outputs": [],
   "source": [
    "s   = d.session()\n",
    "\n",
    "# Prova a creare un nuovo database vuoto col nome di instagram\n",
    "# Che ci fosse gia' o meno alla fine setta la sessione sul database instagram\n",
    "# Lo si fa all'inizio per non dover specificare ogni volta su che database fare le query\n",
    "try:\n",
    "    s.run(\"create database instagram\").data() \n",
    "except: \n",
    "    s = d.session(database=\"instagram\")\n",
    "finally:\n",
    "    s = d.session(database=\"instagram\")"
   ]
  },
  {
   "cell_type": "code",
   "execution_count": 29,
   "metadata": {},
   "outputs": [
    {
     "data": {
      "text/plain": [
       "<neo4j._sync.work.result.Result at 0x7b9181a76900>"
      ]
     },
     "execution_count": 29,
     "metadata": {},
     "output_type": "execute_result"
    }
   ],
   "source": [
    "# La creazione dei constraint viene fatta per ogni nodo che sara' presente\n",
    "# I constraint in questione specificano tutti l'unicita' dell'ID per ogni nodo\n",
    "s.run(\"create constraint UniqueUserID if not exists for (u:User) require u.id is unique;\")\n",
    "s.run(\"create constraint UniqueCommentID if not exists for (c:Comment) require c.id is unique;\")\n",
    "s.run(\"create constraint UniquePostID if not exists for (p:Post) require p.id is unique;\")\n",
    "s.run(\"create constraint UniqueTagID if not exists for (t:Tag) require t.id is unique;\")\n",
    "\n",
    "# Nel caso in cui il constraint esista gia' non verrà creato nessun errore grazie a 'if not exists'"
   ]
  },
  {
   "cell_type": "markdown",
   "metadata": {},
   "source": [
    "\n",
    "Accedendo a http://localhost:7474 e poi con nessuna autenticazione a bolt://localhost:7688 si può:\n",
    "* controllare con `:dbs` che esiste il database instagram\n",
    "* con `:use instagram` entrare nel database e con `:schema` controllare che siano stati aggiunti i quattro constraint"
   ]
  },
  {
   "cell_type": "code",
   "execution_count": 30,
   "metadata": {},
   "outputs": [
    {
     "name": "stdout",
     "output_type": "stream",
     "text": [
      "[{'count(line)': 8782}]\n"
     ]
    }
   ],
   "source": [
    "# Si è fatto un test per essere sicuri di come e dove trovare tutti i csv\n",
    "# La stampa ritorna il numero di righe del file (8782)\n",
    "res = s.run('''load csv with headers\n",
    "                from 'file:///likes.csv' as line\n",
    "                return count(line)''').data()\n",
    "print(res)"
   ]
  },
  {
   "cell_type": "markdown",
   "metadata": {},
   "source": [
    "#### AGGIUNTA NODI"
   ]
  },
  {
   "cell_type": "code",
   "execution_count": 35,
   "metadata": {},
   "outputs": [
    {
     "data": {
      "text/plain": [
       "<neo4j._sync.work.result.Result at 0x7b9181922000>"
      ]
     },
     "execution_count": 35,
     "metadata": {},
     "output_type": "execute_result"
    }
   ],
   "source": [
    "# Si e' notato che le date di creazione di tag, commenti e foto sono tutte fabbricate\n",
    "# lo stesso giorno\n",
    "# Si e' deciso quindi di non usarle in quanto di poca utilita'\n",
    "\n",
    "# Per i nodi user non vengono messe le properties 'post count' \n",
    "# e 'verified status' in quanto la prima si puo' ricavare e la seconda \n",
    "# non sembra importante per le analisi che si faranno\n",
    "s.run('''load csv with headers\n",
    "         from 'file:///users.csv' as row\n",
    "         with row merge (u:User{id:toInteger(row.id)})\n",
    "         on create set\n",
    "            u.name = row.name,\n",
    "            u.created = toString(row.`created time`), \n",
    "            u.type = toString(row.`private/public`)''')\n",
    "\n",
    "s.run('''load csv with headers from 'file:///tags.csv' as row \n",
    "         with row merge (t:Tag{id:toInteger(row.id)}) \n",
    "         on create set \n",
    "            t.text = toString(row.`tag text`), \n",
    "            t.location = toString(row.location) ''')\n",
    "\n",
    "# Per le foto non vengono caricati i link in quanto non servono per l'analisi che si fara'\n",
    "s.run('''load csv with headers from 'file:///photos.csv' as row \n",
    "         with row merge (p:Post{id:toInteger(row.id)}) \n",
    "         on create set\n",
    "            p.filter = toString(row.`Insta filter used`),\n",
    "            p.type = toString(row.`photo type`) ''')\n",
    "\n",
    "\n",
    "s.run('''load csv with headers from 'file:///comments.csv' as row \n",
    "         with row merge (c:Comment{id:toInteger(row.id)}) \n",
    "         on create set\n",
    "            c.text = toString(row.comment) ''')"
   ]
  },
  {
   "cell_type": "markdown",
   "metadata": {},
   "source": [
    "#### AGGIUNTA RELAZIONI"
   ]
  },
  {
   "cell_type": "code",
   "execution_count": 36,
   "metadata": {},
   "outputs": [
    {
     "data": {
      "text/plain": [
       "<neo4j._sync.work.result.Result at 0x7b9181922630>"
      ]
     },
     "execution_count": 36,
     "metadata": {},
     "output_type": "execute_result"
    }
   ],
   "source": [
    "# Relazione di creazione post da parte dello user\n",
    "s.run('''load csv with headers from 'file:///photos.csv' as row \n",
    "         match (p:Post{id:toInteger(row.id)})\n",
    "         match (u:User{id:toInteger(row.`user ID`)}) \n",
    "         merge (p)<-[:POSTED]-(u) ''') \n",
    "\n",
    "# Relazione di un tag contenuto in un post\n",
    "# La relazione tra tag e user può essere ricavata da user -> post -> tag\n",
    "s.run('''load csv with headers from 'file:///photo_tags.csv' as row \n",
    "         match (p:Post{id:toInteger(row.photo)})\n",
    "         match (t:Tag{id:toInteger(row.`tag ID`)}) \n",
    "         merge (p)-[:HAS_TAG]->(t) ''') \n",
    "\n",
    "# Relazione di un like di uno user su un post\n",
    "# Anche in questo caso il 'created time' e' stato fabbricato e non viene quindi preso in considerazione\n",
    "# La properties 'following or not' si può invece ricavare e non viene quindi settata\n",
    "s.run('''load csv with headers from 'file:///likes.csv' as row \n",
    "         match (p:Post{id:toInteger(row.photo)})\n",
    "         match (u:User{id:toInteger(row.user)}) \n",
    "         merge (p)<-[r:LIKE]-(u) \n",
    "         set r.type = row.`like type `''') \n",
    "\n",
    "# Relazione di follow tra user\n",
    "# Anche in questo caso le properties 'is follower active' e 'followee Acc status' non sono fondamentali\n",
    "# e possono essere ricavate dalle varie relazioni e properties gia' salvate\n",
    "s.run('''load csv with headers from 'file:///follows.csv' as row \n",
    "         match (u1:User{id:toInteger(row.follower)})\n",
    "         match (u2:User{id:toInteger(row.followee)}) \n",
    "         merge (u1)-[:FOLLOW]->(u2) ''') \n",
    "\n",
    "# Relazione di un commento sotto un post\n",
    "s.run('''load csv with headers from 'file:///comments.csv' as row \n",
    "         match (c:Comment{id:toInteger(row.id)})\n",
    "         match (p:Post{id:toInteger(row.`Photo id`)}) \n",
    "         merge (p)<-[r:COMMENT_ON]-(c) ''') \n",
    "\n",
    "# Relazione di uno user che crea un commento\n",
    "s.run('''load csv with headers from 'file:///comments.csv' as row \n",
    "         match (c:Comment{id:toInteger(row.id)})\n",
    "         match (u:User{id:toInteger(row.`User id`)}) \n",
    "         merge (c)-[:COMMENTED_BY]->(u) ''') \n"
   ]
  },
  {
   "cell_type": "markdown",
   "metadata": {},
   "source": [
    "#### AGGIUNTA INDICI"
   ]
  },
  {
   "cell_type": "code",
   "execution_count": 38,
   "metadata": {},
   "outputs": [
    {
     "data": {
      "text/plain": [
       "<neo4j._sync.work.result.Result at 0x7b9168912510>"
      ]
     },
     "execution_count": 38,
     "metadata": {},
     "output_type": "execute_result"
    }
   ],
   "source": [
    "# Si sceglie di creare dei text index per un po' tutte le proprieta' dei nodi\n",
    "# questo perchè tutti i campi sono in formato di stringa e non si pensa di aver mai \n",
    "# bisogno di alzare le performance di operazioni numeriche (range indexes)\n",
    "s.run('''create text index for (u:User) on (u.name)''')\n",
    "s.run('''create text index for (u:User) on (u.type)''')\n",
    "\n",
    "s.run('''create text index for (t:Tag) on (t.text)''')\n",
    "s.run('''create text index for (t:Tag) on (t.location)''')\n",
    "\n",
    "s.run('''create text index for (p:Post) on (p.type)''')\n",
    "\n",
    "s.run('''create text index for (c:Comment) on (c.text)''')\n",
    "\n",
    "# Gli id sono fatti invece di default dai constraint di unicita'"
   ]
  },
  {
   "cell_type": "markdown",
   "metadata": {},
   "source": [
    "## EXPLORATORY DATA ANALYSIS"
   ]
  },
  {
   "cell_type": "code",
   "execution_count": null,
   "metadata": {},
   "outputs": [],
   "source": []
  },
  {
   "cell_type": "markdown",
   "metadata": {},
   "source": [
    "## RESEARCH QUESTIONS"
   ]
  },
  {
   "cell_type": "code",
   "execution_count": null,
   "metadata": {},
   "outputs": [],
   "source": [
    "# Ricordiamo sempre di chiudere la sessione aperta\n",
    "s.close()\n",
    "d.close()"
   ]
  }
 ],
 "metadata": {
  "kernelspec": {
   "display_name": "bigd-n5qokXuP-py3.11",
   "language": "python",
   "name": "python3"
  },
  "language_info": {
   "codemirror_mode": {
    "name": "ipython",
    "version": 3
   },
   "file_extension": ".py",
   "mimetype": "text/x-python",
   "name": "python",
   "nbconvert_exporter": "python",
   "pygments_lexer": "ipython3",
   "version": "3.12.3"
  }
 },
 "nbformat": 4,
 "nbformat_minor": 2
}
