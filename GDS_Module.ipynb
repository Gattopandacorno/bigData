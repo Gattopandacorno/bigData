{
 "cells": [
  {
   "cell_type": "markdown",
   "metadata": {},
   "source": [
    "## CREAZIONE DELL'AMBIENTE DI LAVORO\n",
    "#### ACQUISIZIONE DEL DATASET"
   ]
  },
  {
   "cell_type": "code",
   "execution_count": 100,
   "metadata": {},
   "outputs": [
    {
     "name": "stdout",
     "output_type": "stream",
     "text": [
      "Dataset URL: https://www.kaggle.com/datasets/bhanupratapbiswas/instgram\n",
      "License(s): ODC Public Domain Dedication and Licence (PDDL)\n",
      "Downloading instgram.zip to ./data\n",
      "100%|█████████████████████████████████████████| 151k/151k [00:00<00:00, 459kB/s]\n",
      "100%|█████████████████████████████████████████| 151k/151k [00:00<00:00, 458kB/s]\n"
     ]
    }
   ],
   "source": [
    "import os\n",
    "\n",
    "# Cambiare le credenziali kaggle per poter scaricare i dati\n",
    "# Si uncommenti e si cambino le stringhe con le proprie credenziali\n",
    "# os.environ['KAGGLE_USERNAME'] = \"your_username\"\n",
    "# os.environ['KAGGLE_KEY'] = \"your_password\"\n",
    "\n",
    "# Download di tutti i file .csv presenti nel dataset di instgram\n",
    "!kaggle datasets download -p ./data -d bhanupratapbiswas/instgram --unzip "
   ]
  },
  {
   "cell_type": "markdown",
   "metadata": {},
   "source": [
    "#### CONTAINER NEO4J\n",
    "\n",
    "Per fare il build e lo start del container di neo4j (si parte dalla empty sandbox) si deve far girare nella cartella del progetto contente `docker-compose.yml` il comando riportato di seguito.\n",
    "\n",
    "Si e' voluto fare un docker-compose cosi da aggiungere in maniera piu' elegante le opzioni sulla creazione del container.\n",
    "\n",
    "```bash\n",
    "sudo docker-compose up\n",
    "```\n",
    "\n",
    "**NB**: Nell'ambiente di visual studio non si riesce, purtroppo, a far girare comandi di questo tipo in modo interattivo (nessuna possibilità di immettere la password).\n",
    "Si e' anche valutato se mettere la password in un file .env e richiamarla da riga di comando ma non sarebbe stata sicura."
   ]
  },
  {
   "cell_type": "markdown",
   "metadata": {},
   "source": [
    "#### CONNESSIONE AL DATABASE"
   ]
  },
  {
   "cell_type": "code",
   "execution_count": 85,
   "metadata": {},
   "outputs": [],
   "source": [
    "from neo4j import GraphDatabase as gd\n",
    "\n",
    "# Prima di arrivare a questo punto si controlli di aver correttamente attivato il container\n",
    "# Nel caso in cui ci siano dubbi su ip/porta da usare si controlli nel log docker la voce \"bolt\"\n",
    "URI = \"bolt://localhost:7688\" \n",
    "\n",
    "d   = gd.driver(URI, auth=None)\n",
    "d.verify_connectivity()"
   ]
  },
  {
   "cell_type": "markdown",
   "metadata": {},
   "source": [
    "#### CREAZIONE DATABASE"
   ]
  },
  {
   "cell_type": "code",
   "execution_count": 86,
   "metadata": {},
   "outputs": [],
   "source": [
    "s   = d.session()\n",
    "\n",
    "# Prova a creare un nuovo database vuoto col nome di instagram\n",
    "# Che ci fosse gia' o meno alla fine setta la sessione sul database instagram\n",
    "try:\n",
    "    s.run(\"create database instagram\").data() \n",
    "except: \n",
    "    s = d.session(database=\"instagram\")\n",
    "finally:\n",
    "    s = d.session(database=\"instagram\")"
   ]
  },
  {
   "cell_type": "code",
   "execution_count": 87,
   "metadata": {},
   "outputs": [
    {
     "data": {
      "text/plain": [
       "<neo4j._sync.work.result.Result at 0x7a67ace33380>"
      ]
     },
     "execution_count": 87,
     "metadata": {},
     "output_type": "execute_result"
    }
   ],
   "source": [
    "# La creazione dei constraint viene fatta per ogni nodo che sara' presente\n",
    "s.run(\"create constraint UniqueUserID for (u:User) require u.id is unique;\")\n",
    "s.run(\"create constraint UniqueCommentID for (c:Comment) require c.id is unique;\")\n",
    "s.run(\"create constraint UniquePhotoID for (p:Photo) require p.id is unique;\")\n",
    "s.run(\"create constraint UniqueTagID for (t:Tag) require t.id is unique;\")"
   ]
  },
  {
   "cell_type": "markdown",
   "metadata": {},
   "source": [
    "\n",
    "Accedendo a http://localhost:7474 e poi con nessuna autenticazione a bolt://localhost:7688 si può:\n",
    "* controllare con `:dbs` che esiste il database instagram\n",
    "* con `:use instagram` entrare nel database e con `:schema` controllare che siano stati aggiunti i quattro constraint"
   ]
  },
  {
   "cell_type": "code",
   "execution_count": 43,
   "metadata": {},
   "outputs": [],
   "source": [
    "# La creazione degli index viene fatta per ogni nodo in modo da avere gia' buone performance \n",
    "# su alcune delle operazioni che possono essere fatte su di essi \n",
    "# TODO: METTI GLI INDEX"
   ]
  },
  {
   "cell_type": "code",
   "execution_count": 88,
   "metadata": {},
   "outputs": [
    {
     "name": "stdout",
     "output_type": "stream",
     "text": [
      "[{'map': {'beverage': 'Soda', 'name': 'Selma', 'age': '9'}}, {'map': {'beverage': 'Tea', 'name': 'Rana', 'age': '12'}}, {'map': {'beverage': 'Cola', 'name': 'Selina', 'age': '19'}}]\n"
     ]
    }
   ],
   "source": [
    "# Si è fatto un test con un mini file csv per essere sicuri di come e dove trovare tutti i csv\n",
    "# La stampa ritorna il numero di righe del file (3)\n",
    "res = s.run('''LOAD CSV WITH HEADERS\n",
    "                FROM 'file:///test.csv' AS line\n",
    "                RETURN count(line)''').data()\n",
    "print(res)"
   ]
  },
  {
   "cell_type": "markdown",
   "metadata": {},
   "source": [
    "## RESEARCH QUESTIONS"
   ]
  },
  {
   "cell_type": "code",
   "execution_count": null,
   "metadata": {},
   "outputs": [],
   "source": [
    "s.close()\n",
    "d.close()\n",
    "d.close()"
   ]
  }
 ],
 "metadata": {
  "kernelspec": {
   "display_name": "bigd-n5qokXuP-py3.11",
   "language": "python",
   "name": "python3"
  },
  "language_info": {
   "codemirror_mode": {
    "name": "ipython",
    "version": 3
   },
   "file_extension": ".py",
   "mimetype": "text/x-python",
   "name": "python",
   "nbconvert_exporter": "python",
   "pygments_lexer": "ipython3",
   "version": "3.12.3"
  }
 },
 "nbformat": 4,
 "nbformat_minor": 2
}
