{
 "cells": [
  {
   "cell_type": "markdown",
   "metadata": {},
   "source": [
    "## CREAZIONE DELL'AMBIENTE DI LAVORO"
   ]
  },
  {
   "cell_type": "markdown",
   "metadata": {},
   "source": [
    "#### ACQUISIZIONE DEL DATASET"
   ]
  },
  {
   "cell_type": "code",
   "execution_count": null,
   "metadata": {},
   "outputs": [],
   "source": [
    "import os\n",
    "\n",
    "# NB: come scritto nel readme questa parte non è fondamentale se ci sono gia' i file\n",
    "# necessari nella cartella ./data/\n",
    "\n",
    "# Cambiare le credenziali kaggle per poter scaricare i dati.\n",
    "# Si uncommenti e si cambino le stringhe con le proprie credenziali.\n",
    "# os.environ['KAGGLE_USERNAME'] = \"your_username\"\n",
    "# os.environ['KAGGLE_KEY'] = \"your_password\"\n",
    "\n",
    "# Download di tutti i file .csv presenti nel dataset di instgram.\n",
    "!kaggle datasets download -p ./data -d bhanupratapbiswas/instgram --unzip "
   ]
  },
  {
   "cell_type": "markdown",
   "metadata": {},
   "source": [
    "#### CONTAINER NEO4J"
   ]
  },
  {
   "cell_type": "markdown",
   "metadata": {},
   "source": [
    "Il container neo4j contiene una empty sandbox con al suo interno le librerie apoc, apoc-extended e gds.\n",
    "Per fare il build e lo start si deve far girare nella cartella del progetto contente `docker-compose.yml` il comando riportato di seguito.\n",
    "```bash\n",
    "sudo docker-compose up\n",
    "```\n",
    "\n",
    "Nel caso in cui dovesse riscontrarsi `Error response from daemon: network <id_network> not found` cio' che bisogna fare e' aggiungere una semplice opzione al comando precedente.\n",
    "```bash\n",
    "sudo docker-compose up --force-recreate\n",
    "```\n",
    "\n",
    "Nel caso invece dovesse riscontrarsi `Cannot connect to the Docker daemon` allora dovete avviare il deamon docker in questo modo:\n",
    "```bash\n",
    "systemctl start docker\n",
    "```\n",
    "o in maniera analoga con\n",
    "```bash\n",
    "sudo systemctl start docker\n",
    "```\n",
    "\n",
    "**NB**: Nell'ambiente di visual studio non si riesce, purtroppo, a far girare comandi di questo tipo in modo interattivo (nessuna possibilità di immettere la password).\n",
    "Si e' anche valutato se metterla in un file .env e richiamarla da riga di comando ma non sarebbe stata sicura in quanto salvata in chiaro. Per questo si richiede all'utente di immeterla da terminale.\n",
    "\n",
    "Prima di continuare aspettare la conferma dell'avvio del container, come in figura:\n",
    "![container neo4j](media/container_start.png)"
   ]
  },
  {
   "cell_type": "markdown",
   "metadata": {},
   "source": [
    "#### CONNESSIONE AL DATABASE"
   ]
  },
  {
   "cell_type": "code",
   "execution_count": null,
   "metadata": {},
   "outputs": [],
   "source": [
    "from neo4j import GraphDatabase as gd\n",
    "\n",
    "# Prima di arrivare a questo punto si controlli di aver correttamente attivato il container\n",
    "# Nel caso in cui ci siano dubbi su ip/porta da usare si controlli nel log docker alla voce \"bolt\"\n",
    "URI = \"bolt://localhost:7688\" \n",
    "\n",
    "d   = gd.driver(URI, auth=None)\n",
    "d.verify_connectivity()"
   ]
  },
  {
   "cell_type": "markdown",
   "metadata": {},
   "source": [
    "#### CREAZIONE DATABASE"
   ]
  },
  {
   "cell_type": "code",
   "execution_count": null,
   "metadata": {},
   "outputs": [],
   "source": [
    "s   = d.session()\n",
    "\n",
    "# Prova a creare un nuovo database vuoto col nome di instagram.\n",
    "# Che ci fosse gia' o meno alla fine setta la sessione sul quel database.\n",
    "# Lo si fa all'inizio per non dover specificarlo ogni volta quando si fanno le query.\n",
    "try:\n",
    "    s.run(\"create database instagram\").data() \n",
    "except: \n",
    "    s = d.session(database=\"instagram\")\n",
    "finally:\n",
    "    s = d.session(database=\"instagram\")"
   ]
  },
  {
   "cell_type": "markdown",
   "metadata": {},
   "source": [
    "\n",
    "Accedendo a http://localhost:7474 e poi con nessuna autenticazione a bolt://localhost:7688 si può:\n",
    "* controllare che esiste il database instagram\n",
    "    ```cypher \n",
    "    :dbs\n",
    "* entrare nel database\n",
    "    ```cypher\n",
    "    :use instagram"
   ]
  },
  {
   "cell_type": "markdown",
   "metadata": {},
   "source": [
    "#### CREAZIONE DEI VINCOLI"
   ]
  },
  {
   "cell_type": "code",
   "execution_count": null,
   "metadata": {},
   "outputs": [],
   "source": [
    "# La creazione dei constraint viene fatta per ogni nodo che sara' presente.\n",
    "# Essi specificano tutti l'unicita' dell'ID.\n",
    "s.run(\"create constraint UniqueUserID if not exists for (u:User) require u.id is unique;\")\n",
    "s.run(\"create constraint UniqueCommentID if not exists for (c:Comment) require c.id is unique;\")\n",
    "s.run(\"create constraint UniquePostID if not exists for (p:Post) require p.id is unique;\")\n",
    "s.run(\"create constraint UniqueTagID if not exists for (t:Tag) require t.id is unique;\")\n",
    "\n",
    "# Nel caso in cui il constraint esista gia' non verrà creato nessun errore grazie a 'if not exists'"
   ]
  },
  {
   "cell_type": "markdown",
   "metadata": {},
   "source": [
    "per controllare che siano stati aggiunti i quattro constraint\n",
    "```cypher\n",
    ":schema\n",
    "```"
   ]
  },
  {
   "cell_type": "markdown",
   "metadata": {},
   "source": [
    "#### AGGIUNTA NODI"
   ]
  },
  {
   "cell_type": "code",
   "execution_count": null,
   "metadata": {},
   "outputs": [],
   "source": [
    "# Si e' notato che le date di creazione di tag, commenti e post sono tutte \n",
    "# allo stesso giorno, cio' vuol dire che non possono essere utilizzate per delle query.\n",
    "# Si e' deciso quindi di non aggiungerle nei corrispettivi nodi in quanto di poca utilita'.\n",
    "\n",
    "# Per i nodi user non vengono messe le properties 'post count' \n",
    "# e 'verified status' in quanto la prima si puo' ricavare e la seconda \n",
    "# non sembra importante per le analisi che si faranno.\n",
    "s.run('''load csv with headers\n",
    "         from 'file:///users.csv' as row\n",
    "         with row merge (u:User{id:toInteger(row.id)})\n",
    "         on create set\n",
    "            u.name = row.name,\n",
    "            u.created = toString(row.`created time`), \n",
    "            u.type = toString(row.`private/public`)''')\n",
    "\n",
    "s.run('''load csv with headers from 'file:///tags.csv' as row \n",
    "         with row merge (t:Tag{id:toInteger(row.id)}) \n",
    "         on create set \n",
    "            t.text = toString(row.`tag text`), \n",
    "            t.location = toString(row.location) ''')\n",
    "\n",
    "# Per i post non vengono caricati i link in quanto non servono per l'analisi che si fara'.\n",
    "s.run('''load csv with headers from 'file:///photos.csv' as row \n",
    "         with row merge (p:Post{id:toInteger(row.id)}) \n",
    "         on create set\n",
    "            p.filter = toString(row.`Insta filter used`),\n",
    "            p.type = toString(row.`photo type`) ''')\n",
    "\n",
    "s.run('''load csv with headers from 'file:///comments.csv' as row \n",
    "         with row merge (c:Comment{id:toInteger(row.id)}) \n",
    "         on create set\n",
    "            c.text = toString(row.comment) ''')"
   ]
  },
  {
   "cell_type": "markdown",
   "metadata": {},
   "source": [
    "#### AGGIUNTA RELAZIONI"
   ]
  },
  {
   "cell_type": "code",
   "execution_count": null,
   "metadata": {},
   "outputs": [],
   "source": [
    "# Creazione post da parte di uno user\n",
    "s.run('''load csv with headers from 'file:///photos.csv' as row \n",
    "         match (p:Post{id:toInteger(row.id)})\n",
    "         match (u:User{id:toInteger(row.`user ID`)}) \n",
    "         merge (p)<-[:POSTED]-(u) ''') \n",
    "\n",
    "# Tag contenuto in un post.\n",
    "# La relazione tra tag e user può essere ricavata da user -> post -> tag.\n",
    "s.run('''load csv with headers from 'file:///photo_tags.csv' as row \n",
    "         match (p:Post{id:toInteger(row.photo)})\n",
    "         match (t:Tag{id:toInteger(row.`tag ID`)}) \n",
    "         merge (p)-[:HAS_TAG]->(t) ''') \n",
    "\n",
    "# Like di uno user su un post,\n",
    "# 'created time' e' stato fabbricato e non viene quindi preso in considerazione,\n",
    "# 'following or not' si può invece ricavare.\n",
    "s.run('''load csv with headers from 'file:///likes.csv' as row \n",
    "         match (p:Post{id:toInteger(row.photo)})\n",
    "         match (u:User{id:toInteger(row.`user `)}) \n",
    "         merge (p)<-[:LIKE {type: row.`like type`}]-(u) ''') \n",
    "\n",
    "# Relazione di seguace-seguito, l'arco e' diretto dal follower al seguito.\n",
    "# Le properties 'is follower active' e 'followee Acc status' non sono fondamentali\n",
    "# e possono essere ricavate dalle varie relazioni e properties gia' salvate.\n",
    "s.run('''load csv with headers from 'file:///follows.csv' as row \n",
    "         match (a:User{id:toInteger(row.follower)})\n",
    "         match (b:User{id:toInteger(row.`followee `)}) \n",
    "         merge (a)-[:FOLLOWS]->(b) ''') \n",
    "\n",
    "# Commento relativo ad un post.\n",
    "s.run('''load csv with headers from 'file:///comments.csv' as row \n",
    "         match (c:Comment{id:toInteger(row.id)})\n",
    "         match (p:Post{id:toInteger(row.`Photo id`)}) \n",
    "         merge (p)<-[:COMMENT_ON]-(c) ''') \n",
    "\n",
    "# Commento di uno user.\n",
    "s.run('''load csv with headers from 'file:///comments.csv' as row \n",
    "         match (c:Comment{id:toInteger(row.id)})\n",
    "         match (u:User{id:toInteger(row.`User  id`)}) \n",
    "         merge (c)-[:COMMENTED_BY]->(u) ''') \n"
   ]
  },
  {
   "cell_type": "markdown",
   "metadata": {},
   "source": [
    "#### AGGIUNTA INDICI"
   ]
  },
  {
   "cell_type": "code",
   "execution_count": null,
   "metadata": {},
   "outputs": [],
   "source": [
    "# Si sceglie di creare dei text index per tutte le proprieta' dei nodi,\n",
    "# tutti i campi sono in formato stringa/testuale e non si pensa di aver mai \n",
    "# bisogno di alzare le performance di operazioni numeriche (range indexes).\n",
    "s.run('''create text index for (u:User) on (u.name)''')\n",
    "s.run('''create text index for (u:User) on (u.type)''')\n",
    "\n",
    "s.run('''create text index for (t:Tag) on (t.text)''')\n",
    "s.run('''create text index for (t:Tag) on (t.location)''')\n",
    "\n",
    "s.run('''create text index for (p:Post) on (p.type)''')\n",
    "\n",
    "s.run('''create text index for (c:Comment) on (c.text)''')\n",
    "\n",
    "# Gli indici sugli ID vengono fatti di default quando si creano i vincoli di unicita'."
   ]
  },
  {
   "cell_type": "markdown",
   "metadata": {},
   "source": [
    "## INTRODUZIONE"
   ]
  },
  {
   "cell_type": "markdown",
   "metadata": {},
   "source": [
    "Il data graph che si vuole andare ad analizzare rappresenta una piccola porzione dei nodi e delle interazioni di Instagram. Essa e' un social network in cui vengono postate foto, video, storie e album di foto. Un utente puo' quindi decidere di pubblicare un post oppure anche solo di commentarle  e/o mettere il like a quello di un altro utente. \n",
    "Gli utenti possono conoscersi, seguirsi a vicenda, oppure possono decidere di 'followare' l'account di uno che gli sembra interessante.\n",
    "I vari account si distinguono inoltre tra privati e pubblici, la differenza tra di essi e' che in uno tutto cio' che viene pubblicato viene  solo visto da chi ha il permesso mentre nell'altro chiunque puo' vedere qualunque cosa.\n",
    "\n",
    "I social sono quindi un buon esempio di grafo e sopra di essi avvengo interazioni interessanti per molti scopi. Si vedra' in questo caso come sono importanti per il commercio e la pubblicita' di molti servizi.\n",
    "\n",
    "La topologia del grafo viene quindi presentata nella prima parte di EDA."
   ]
  },
  {
   "cell_type": "markdown",
   "metadata": {},
   "source": [
    "## EXPLORATORY DATA ANALYSIS"
   ]
  },
  {
   "cell_type": "markdown",
   "metadata": {},
   "source": [
    "Per visionare lo schema generale del grafo appena creato si puo' lanciare il comando:\n",
    "```cypher\n",
    "call db.schema.visualization()\n",
    "```\n",
    "\n",
    "Il risultato di questa operazione dovrebbe essere:\n",
    "\n",
    "![graph](media/graph_schema.png)"
   ]
  },
  {
   "cell_type": "code",
   "execution_count": null,
   "metadata": {},
   "outputs": [],
   "source": [
    "import pandas as pd\n",
    "import matplotlib.pyplot as plt\n",
    "\n",
    "a   = plt.subplots(nrows=1, ncols=2)[1]\n",
    "\n",
    "res = s.run('''match (p:Post) return p.type''').data()\n",
    "pd.DataFrame(res).value_counts().plot(ax=a[0], y=\"type\", kind=\"pie\", autopct='%1.0f%%')\n",
    "\n",
    "res = s.run('''match (u:User) return u.type''').data()\n",
    "pd.DataFrame(res).value_counts().plot(ax=a[1], y=\"type\", kind=\"pie\", autopct='%1.0f%%')\n",
    "\n",
    "# Si nota come per i post sia piu' ricorrente fare foto rispetto a video e carousel\n",
    "# questo potrebbe essere dato dal fatto che sono gli utenti piu' attivi generano tanti \n",
    "# tipi di contenuti mentre quelli meno attivi generano quasi solo foto.\n",
    "\n",
    "# Per la tipologia di utente (yes=private, no=public) non vi è alcuna differenza.\n",
    "# Non viene spiegato perfettamente il significato di yes/no nel csv di partenza\n",
    "# ma si e' interpretato dal nome della proprieta' private/public = yes/no."
   ]
  },
  {
   "cell_type": "code",
   "execution_count": null,
   "metadata": {},
   "outputs": [],
   "source": [
    "# Proviamo a dare una risposta all'ipotesi avanzata nel precedente commento.\n",
    "res = s.run('''match (p:Post)<-[:POSTED]-(u:User) \n",
    "            return u.type as user_type, p.type as post_type''').data()\n",
    "\n",
    "pd.DataFrame(res).value_counts().plot(y=\"post_type\", kind=\"pie\", autopct='%1.0f%%')\n",
    "\n",
    "# Come si può vedere dal grafico, il numero di foto create da utenti privati e non è in ugual misura.\n",
    "# Per quanto riguarda invece i contenuti sia video che reel la percentuale è maggiore\n",
    "# per utenti pubblici che privati.\n",
    "# Come esperienza personale si pensa che gli utenti privati possano essere coloro che sono meno\n",
    "# incentivati alla creazione in quanto in un ambiente di persone che gia' si conosco e per cui e' piu' \n",
    "# semplice mandare direttamente foto e video. O comunque che chi si mette un profilo privato \n",
    "# sia intenzionato solo a visionare contenuti piu' che produrli."
   ]
  },
  {
   "cell_type": "code",
   "execution_count": null,
   "metadata": {},
   "outputs": [],
   "source": [
    "# Per completare la visualizzazione delle properties piu' importanti\n",
    "# aggiungiamo il grafico sulle percentuali delle location taggate.\n",
    "res = s.run('''match (t:Tag) return t.location''').data()\n",
    "pd.DataFrame(res).value_counts().plot(y=\"location\", kind=\"pie\", autopct='%1.0f%%')"
   ]
  },
  {
   "cell_type": "markdown",
   "metadata": {},
   "source": [
    "Quello che si potrebbe provare a estrapolare da questi ultimi dati è che il dataset rispecchia in piccola parte i veri dati di instagram dei post per continente.\n",
    "Questa teoria viene in parte provata da alcuni dei grafici di questo [studio](https://mention.com/en/reports/instagram/instagram-report-location/).\n",
    "\n",
    "Il numero di post maggiori e' dato da regioni USA e questo spiega come mai NYC, Florida e Washington siano \n",
    "ad una percentuale cosi alta nel nostro dataset. Queste regioni vengono seguite dal Brasile per cui prova anche la seconda percentuale migliore.\n",
    "Altro dato interessante e' quello che prova la posizione cosi alta di Londra, essa e' la citta' con \n",
    "maggior numero di post, prima anche tra le citta' inglesi.\n",
    "Inoltre si può notare come i continenti di Asia e Oceania hanno valori molto bassi rispetto a tutti gli altri, questo spiega come mai Australia abbia la percentuale minore. Non spiega come mai Giappone sia a parimerito con Brasile che abbiamo detto essere la seconda country per numero di post.\n",
    "Infine si noti come la citta' con piu' alto tasso di interazione è stata Mumbai che verosimilmente occupa\n",
    "la seconda percentuale migliore nel nostro grafico.\n",
    "L'unico dato che non si riesce bene a ricostruire sembra quindi essere Bangalore.\n",
    "\n",
    "Sfortunatamente non si può fare una predizione completa in quanto il dataset usato non riporta sicuramente  tutti i dati e si scosta quindi da quello che sarebbe il dataset reale di Instagram."
   ]
  },
  {
   "cell_type": "code",
   "execution_count": null,
   "metadata": {},
   "outputs": [],
   "source": [
    "# Continuando con l'esplorazione dei dati cerchiamo di capire come solitamente \n",
    "# uno user reagisce ad un post (tipo di emoji usato).\n",
    "res = s.run('''match (u:User)-[r:LIKE]->() with r.type as tipo, u, count(*) as degree\n",
    "         return tipo, min(degree) as min, max(degree) as max, \n",
    "         avg(degree) as average, stdev(degree) as stdev order by tipo''').data()\n",
    "df  = pd.DataFrame(res)\n",
    "print(df)\n",
    "\n",
    "df.drop(columns='tipo').T.boxplot()\n",
    "\n",
    "# Thumbs up, heart, fire e laughing sono solitamente gli emoji piu' conosciuti \n",
    "# e usati anche su altre piattaforme quindi e' verosimile che sono anche quelli piu' gettonati.\n",
    "# Il boxplot di questi e' positivamente skew in quanto vengono usati spesso."
   ]
  },
  {
   "cell_type": "markdown",
   "metadata": {},
   "source": [
    "## RESEARCH QUESTIONS"
   ]
  },
  {
   "cell_type": "markdown",
   "metadata": {},
   "source": [
    "#### PREDIZIONE DI UNO USER IN VACANZA"
   ]
  },
  {
   "cell_type": "markdown",
   "metadata": {},
   "source": [
    "Questa domanda si pensa possa essere utile per due motivi:\n",
    "\n",
    "* Si vuole far capire l'importanza di non lasciare in rete alcune informazioni (anche implicite, cioe' che possano essere derivate) in quanto utenti maligni potrebbero usarle a proprio favore. In questo caso si pensi a come una banda di ladri potrebbe usare l'informazione per andare a svaligiare casa sapendo dove abita la vittima e che questa sia in vacanza.\n",
    "\n",
    "* Capire se si possono consigliare posti da visitare o in cui comprare. Lo scopo e' quindi commerciale.\n",
    "\n",
    "Inanzitutto si ragiona con che dati si potrebbe risolvere la domanda.\n",
    "Con la semplice location si potrebbe ipotizzare che basti sapere il numero di post di un utente per una data regione. \n",
    "Si pensa che l'utente medio possa fare molte foto e video di una vacanza ma meno del posto in cui abita e vive, questo perche' e' piu' interessato a ricordarsi momenti che rivivra' difficilmente. \n",
    "Quindi cerchiamo una location con percentuale maggiore per predire se rappresenta una location di vacanza."
   ]
  },
  {
   "cell_type": "code",
   "execution_count": null,
   "metadata": {},
   "outputs": [],
   "source": [
    "from matplotlib import pyplot\n",
    "\n",
    "# In questo caso e' comodo avere una cypher projection per ogni nodo user che ha postato una foto con\n",
    "# un certo tag (al cui interno si trova la proprieta' della location).\n",
    "# Viene usata la cypher in quanto ci permette di modellare in modo piu' flessibile la relazione che\n",
    "# che si vuole studiare.\n",
    "s.run('''match (source:User)-[:POSTED]->(:Post)-->(target:Tag)\n",
    "      with gds.graph.project('posted', source, target) as g\n",
    "      return g.graphName, g.nodeCount, g.relationshipCount''')\n",
    "\n",
    "res = s.run('''call gds.graph.relationships.stream('posted')\n",
    "        yield sourceNodeId as u, targetNodeId as t\n",
    "        with gds.util.asNode(u).name as user, collect(gds.util.asNode(t).location) as locs\n",
    "        return distinct user, apoc.coll.frequencies(locs) as locations order by user''').data()\n",
    "\n",
    "df = pd.DataFrame(res)\n",
    "\n",
    "print(df.shape) # Come si può notare non tutti i 100 user hanno postato qualcosa."
   ]
  },
  {
   "cell_type": "code",
   "execution_count": 35,
   "metadata": {},
   "outputs": [
    {
     "name": "stdout",
     "output_type": "stream",
     "text": [
      "([<matplotlib.patches.Wedge object at 0x74d6ecd05820>, <matplotlib.patches.Wedge object at 0x74d6f06cdac0>, <matplotlib.patches.Wedge object at 0x74d6ecd05c10>, <matplotlib.patches.Wedge object at 0x74d6ecd05580>, <matplotlib.patches.Wedge object at 0x74d6ee419f70>, <matplotlib.patches.Wedge object at 0x74d6ee41b350>, <matplotlib.patches.Wedge object at 0x74d6ee41b380>], [Text(0.8468932598760948, 0.70197706969419, 'london'), Text(-0.532693918560852, 0.9624121721634056, 'brazil'), Text(-1.0999999999999892, -1.5448414893833034e-07, 'australia'), Text(-0.8209711704763503, -0.7321245367058062, 'bangalore'), Text(-0.14517273892689647, -1.0903783177743693, 'washington DC'), Text(0.5840679438677552, -0.9321290881343061, 'florida'), Text(1.0381198976323982, -0.36374039937804425, 'Mumbai')], [Text(0.4619417781142334, 0.3828965834695582, '22%'), Text(-0.2905603192150102, 0.524952093907312, '22%'), Text(-0.5999999999999941, -8.426408123908927e-08, '12%'), Text(-0.44780245662346374, -0.3993406563849852, '11%'), Text(-0.0791851303237617, -0.5947518096951104, '11%'), Text(0.3185825148369574, -0.5084340480732578, '11%'), Text(0.566247216890399, -0.19840385420620596, '11%')])\n"
     ]
    },
    {
     "data": {
      "image/png": "[encoded data removed]",
      "text/plain": [
       "<Figure size 640x480 with 1 Axes>"
      ]
     },
     "metadata": {},
     "output_type": "display_data"
    }
   ],
   "source": [
    "# Usiamo il primo user (Adelle96) come esempio per capire quali location ha maggiormente usato.\n",
    "# Per fare questo creaiamo prima di tutto una relazione ad-hoc uguale a quella di posted ma \n",
    "# con al suo interno.\n",
    "s.run('''match (source:User {name: 'Adelle96'})-[:POSTED]->(:Post)-->(target:Tag)\n",
    "      with gds.graph.project('adelle', source, target) as g\n",
    "      return g.graphName, g.nodeCount, g.relationshipCount''')\n",
    "\n",
    "# Per poter capire quali siano i luoghi piu' postati da Adelle96 usiamo l'algoritmo di pageRank.\n",
    "# Dato che i valori di location non sono univoci nel grafo si deve, alla fine della query, \n",
    "# unire gli score risultati per location uguali (se no ci si ritrova con, ad esempio, due luoghi NYC).\n",
    "# Anche per questo si e' deciso di usare questo algoritmo, per calcolare lo score conta il numero\n",
    "# di relazioni entranti e quindi possiamo semplicemente sommare i risultati di location uguali.\n",
    "res = s.run('''call gds.pageRank.stream('adelle')\n",
    "            yield nodeId as id, score with gds.util.asNode(id) as node, score as score\n",
    "            where labels(node) = ['Tag']\n",
    "            return distinct node.location as location, sum(score) as score order by score desc''').data()\n",
    "df = pd.DataFrame(res)\n",
    "print(pyplot.pie([float(v) for v in df['score']], labels=[str(k) for k in df['location']], autopct='%1.0f%%'))"
   ]
  },
  {
   "cell_type": "markdown",
   "metadata": {},
   "source": [
    "Come si nota dal grafico il maggior numero di foto viene da Londra e Brasile. L'interpretazione che si potrebbe dare e' che l'utente abbia fatto due vacanze distinte in queste due regioni. Ovviamente Instagram potrebbe verificare che l'ipotesi sia vera in quanto sul profilo puo' essere inserita la nazionalita'.\n",
    "Inoltre, se si avessero i timestamp di quando sono stati postati i contenuti, si potrebbe affermare anche se lo user e' attualmente in quel posto. \n",
    "In ogni caso per questioni pubblicitarie non serve saper individuare una vacanza o meno dato che basterebbe consigliare i servizi del posto in cui si e' correntemente. Ad esempio se l'utente stesse postando da qualche giorno le foto dell'australia si potrebbe provare a consigliarli di visitare l'Ayers rock.\n",
    "\n",
    "Per quanto riguarda la problematica di un utente maligno si puo' dire che non si riesce a ricavare un modo automatico per calcolare se l'utente non e' a casa, questo perchè le uniche analisi che si possono fare direttamente con instagram sembrano essere solo relative al proprio account. \n",
    "L'unica maniera per l'utente maligno sarebbe quindi quella di controllare manualmente un utente target che abiti nella sua zona e vedere quando vengono creati dei post taggati in un luogo diverso.\n",
    "Sicuramente un modo per potersi proteggere da questa possibilita' potrebbe essere il mantenere l'account privato cosi da evitare che persone estranee possano 'spiare' i nostri post.\n",
    "Un altro modo potrebbe anche essere il non mettere la nostra nazionalita' o non taggare la localita'che si sta visitando."
   ]
  },
  {
   "cell_type": "code",
   "execution_count": 36,
   "metadata": {},
   "outputs": [
    {
     "name": "stdout",
     "output_type": "stream",
     "text": [
      "             loc            tags\n",
      "0      bangalore        [beauty]\n",
      "1      australia         [smile]\n",
      "2         london  [beach, happy]\n",
      "3        florida      [stunning]\n",
      "4  washington DC        [dreamy]\n",
      "5         brazil     [fun, food]\n",
      "6         Mumbai     [delicious]\n"
     ]
    }
   ],
   "source": [
    "# Si potrebbe ora rafforzare le ipotesi cercando quali tra i post dell'utente hanno come tag\n",
    "# beach e landscape.\n",
    "# La teoria si basa sul fatto che si pensa che fare foto o video di una spiaggia o di un paesaggio \n",
    "# siano piu' comuni quando si e' in un posto nuovo e non quando si e' in uno che gia' si conosce come\n",
    "# il paese/citta' di abitazione.\n",
    "res = s.run('''call gds.graph.relationships.stream('adelle')\n",
    "            yield sourceNodeId as u, targetNodeId as t\n",
    "            return distinct gds.util.asNode(t).location as loc, \n",
    "            collect(distinct gds.util.asNode(t).text) as tags''').data()\n",
    "\n",
    "# Per poter gia' filtrare per tipo di tag si puo' aggiungere in and nella clausola where\n",
    "# (t.text = 'beach' or t.text = 'landscape')\n",
    "\n",
    "print(pd.DataFrame(res))\n",
    "\n",
    "# Il risultato mostra che a Londra l'utente ha probabilmente visitato una spiaggia, il che \n",
    "# vorrebbe dire che la sua potrebbe essere stata effettivamente una vacanza.\n",
    "# Per invece Brasile si puo' dire ben poco.\n",
    "# Come si e' pero' detto se avessimo la provenienza degli user si potrebbe provare quanto \n",
    "# la teoria possa essere valida."
   ]
  },
  {
   "cell_type": "code",
   "execution_count": 37,
   "metadata": {},
   "outputs": [
    {
     "name": "stdout",
     "output_type": "stream",
     "text": [
      "      user1                  user2       sim\n",
      "0  Adelle96        Presley_McClure  0.700000\n",
      "1  Adelle96          Mariano_Koch3  0.636364\n",
      "2  Adelle96               Gerard79  0.636364\n",
      "3  Adelle96  Tabitha_Schamberger11  0.583333\n",
      "4  Adelle96       Ressie_Stanton46  0.555556\n",
      "5  Adelle96                  Gus93  0.555556\n",
      "6  Adelle96                Alysa22  0.500000\n"
     ]
    }
   ],
   "source": [
    "# In quanto non e' detto che Adelle96 sia andata in vacanza da sola possiamo\n",
    "# controllare se ci sono altre persone che sono state negli stessi posti e con tag simili.\n",
    "# Questa operazione puo' essere utile per poter consigliare le stesse pubblicita' ad utenti \n",
    "# che hanno avuto esperienze simili.\n",
    "# Si valutano tutte le similarita' con user1 = Adelle96 in quanto se lei fosse lo user2 il valore sarebbe\n",
    "# lo stesso, la matrice di similarita' e' simmetrica.\n",
    "# Inoltre mettiamo un Cutoff al valore della similirita' che dovra' quindi essere almeno 0.5.\n",
    "# Questo viene fatto perche' valori inferiori potrebbe portare user diversi che quindi non ci interessano.\n",
    "res = s.run('''call gds.nodeSimilarity.stream('posted', {similarityCutoff: 0.5})\n",
    "            yield node1, node2, similarity\n",
    "            with gds.util.asNode(node1).name as user1, gds.util.asNode(node2).name as user2, similarity as sim\n",
    "            where user1 = 'Adelle96' return user1, user2, sim order by sim desc''').data()\n",
    "sim = pd.DataFrame(res)\n",
    "print(sim)"
   ]
  },
  {
   "cell_type": "code",
   "execution_count": 38,
   "metadata": {},
   "outputs": [
    {
     "name": "stdout",
     "output_type": "stream",
     "text": [
      "['australia', 'brazil', 'london', 'bangalore', 'Mumbai', 'washington DC', 'florida']\n",
      "['australia', 'london', 'bangalore', 'brazil', 'japan', 'Mumbai', 'washington DC', 'florida']\n",
      "['australia', 'brazil', 'florida', 'london', 'new york', 'washington DC']\n",
      "['australia', 'brazil', 'florida', 'london', 'bangalore', 'new york', 'washington DC']\n",
      "['australia', 'brazil', 'washington DC', 'new york', 'bangalore', 'london', 'japan', 'Mumbai']\n",
      "['australia', 'london', 'bangalore', 'washington DC', 'florida']\n",
      "['australia', 'london', 'bangalore', 'washington DC', 'florida']\n",
      "['australia', 'brazil', 'washington DC', 'london', 'bangalore', 'florida']\n"
     ]
    }
   ],
   "source": [
    "# Creazione di Adelle96\n",
    "res = s.run(f'''call gds.graph.relationships.stream('posted')\n",
    "        yield sourceNodeId as src, targetNodeId as dst\n",
    "        with gds.util.asNode(src) as u, gds.util.asNode(dst) as t\n",
    "        where u.name = '{sim['user1'][0]}'\n",
    "        return distinct u.name as user, collect(distinct t.text) as texts, \n",
    "        collect(distinct t.location) as locs''').data()\n",
    "df = pd.DataFrame(res)\n",
    "\n",
    "# Aggiunta degli utenti simili\n",
    "for i in range(len(sim)):\n",
    "    res = s.run(f'''call gds.graph.relationships.stream('posted')\n",
    "        yield sourceNodeId as src, targetNodeId as dst\n",
    "        with gds.util.asNode(src) as u, gds.util.asNode(dst) as t\n",
    "        where u.name = '{sim['user2'][i]}'\n",
    "        return distinct u.name as user, collect(distinct t.text) as texts,\n",
    "        collect(distinct t.location) as locs''').data()\n",
    "\n",
    "    df.loc[len(df)] = pd.Series(res[0])\n",
    "\n",
    "# Si stampano i valori delle location in un loop dato che l'output potrebbe venir troncato\n",
    "# tagliando alcune citta'.\n",
    "for i in range(len(df)):\n",
    "    print(df['locs'][i])\n",
    "\n",
    "# Tutte le persone a parte due sono state sia a londra che in Brasile, questo potrebbe voler dire\n",
    "# che o Adelle96 ha molti amici con cui va in vacanza (gli stessi sarebbero andati \n",
    "# anche in florida, australia e bangalore) o che quei luoghi attraggono maggior turismo e che \n",
    "# quindi sia probabile che ci vada molta gente.\n",
    "# A questo punto per capire una relazione di amicizia servirebbe cercare chi segue Adelle96 che viene\n",
    "# a sua volta seguito da lei. Il problema e' che il grafo (si vedra' nella prossima research question)\n",
    "# e' quasi completo quindi sarebbe scontato che quasi tutti gli utenti la seguano e lei li segui a sua \n",
    "# volta.\n"
   ]
  },
  {
   "cell_type": "markdown",
   "metadata": {},
   "source": [
    "#### COME PUBBLICIZZARSI"
   ]
  },
  {
   "cell_type": "markdown",
   "metadata": {},
   "source": [
    "Come gia' visto i social vengono usati per pubblicizzare la propria attivita'/azienda.\n",
    "Diventa quindi importante sapere chi sono le persone piu' importanti nella rete per avere il giusto advertiser.\n",
    "In questa domanda cerchiamo di capire chi puo' essere quello migliore."
   ]
  },
  {
   "cell_type": "code",
   "execution_count": null,
   "metadata": {},
   "outputs": [],
   "source": [
    "# Controlliamo come sono distribuiti il numero di follower per user (in degree).\n",
    "res = s.run('''match (u:User)<-[:FOLLOWS]-() with distinct u.id as user, \n",
    "               count(*) as indegree return indegree''').data()\n",
    "\n",
    "pd.DataFrame(res).hist()\n",
    "\n",
    "# I valori sono tutti molto vicini tra loro ma, come si vede per range di valori piu' ampi\n",
    "# su social network graph, riporta molti utenti con valori piu' bassi e pochi con valori alti.\n",
    "# Si potrebbe avanzare quindi l'ipotesi che gli utenti con valore 77.0 \n",
    "# siano quelli piu' influenti.\n",
    "\n",
    "# Controlliamo ora com'e' distribuito il numero di persone seguite per user (outdegree)\n",
    "res = s.run('''match (u:User)-[:FOLLOWS]->() with distinct u.id as user, \n",
    "               count(*) as outdegree return outdegree''').data()\n",
    "\n",
    "pd.DataFrame(res).hist()\n",
    "# Quello che si sperava di trovare e' un grafo speculare a quello precedente\n",
    "# in cui gli utenti piu' seguiti sono quelli che dovrebbe seguire meno.\n",
    "# Il fatto che e' stato ottenuto questo risultato fa pensare che il grafo possa non rappresentare\n",
    "# appieno uno small-world come invece sarebbero social di questo tipo.\n",
    "# Per provarlo bisorrebbe usare l'algoritmo gds.triangleCount sfortunatamente \n",
    "# funziona solo su relazioni indirette. \n",
    "\n",
    "# Un ulteriore modo per visionare questi risultati e' utilizzare la funzione\n",
    "# gds.degree.stream().\n",
    "# Per avere performance migliori durante la ricerca creaiamo prima una proiezione.\n",
    "# In questo caso ci servono gli utenti e la relazione di following e possiamo usare \n",
    "# una native projection per una vista cosi semplice.\n",
    "s.run('''call gds.graph.project('follows', 'User', 'FOLLOWS')''')\n",
    "\n",
    "res = s.run('''call gds.degree.stream('follows')\n",
    "                yield nodeId, score return score, \n",
    "                collect(distinct gds.util.asNode(nodeId).name) as user''').data()\n",
    "print(pd.DataFrame(res))\n",
    "\n",
    "# Come si puo' notare abbiamo alcuni utenti che non seguono nessuno (ma che probabilemente sono seguiti)\n",
    "# e altri (la maggior parte) che seguono molte persone.\n",
    "# Si puo' quindi prevedere che le comunita' che verranno trovate corrisponderanno probabilmente ad \n",
    "# un gruppo grande e tanti piccoli che sono gli utenti che non seguono nessuno\n",
    "print(f'Numero di utenti che non seguono nessuno: {len(res[0]['user'])}')\n",
    "\n",
    "# Per poter controllare anche il valore di outdegree (utenti piu' seguiti) si puo' usare lo stesso \n",
    "# algoritmo ma con gli archi al contrario\n",
    "res = s.run('''call gds.degree.stream('follows', {orientation: 'REVERSE'})\n",
    "                yield nodeId, score return score, \n",
    "                collect(distinct gds.util.asNode(nodeId).name) as user''').data()\n",
    "print(pd.DataFrame(res))"
   ]
  },
  {
   "cell_type": "markdown",
   "metadata": {},
   "source": [
    "Per controllare che la proiezione sia stata creata si può lanciare:\n",
    "```cypher\n",
    "call gds.graph.list()\n",
    "```\n",
    "**NB**: L'operazione da un warning se eseguita da browser in quanto funzione deprecata, si è stati costretti ad usarla perchè non sono state trovate tecniche alternative per poter visionare tutte le proiezioni. Inoltre nella pagina di [documentazione](https://neo4j.com/docs/graph-data-science/current/operations-reference/graph-operation-references/) non sembra essere riportato il problema."
   ]
  },
  {
   "cell_type": "code",
   "execution_count": null,
   "metadata": {},
   "outputs": [],
   "source": [
    "res = s.run('''call gds.labelPropagation.stream('follows') yield  nodeId as n, communityId as c \n",
    "         return distinct c as community, count(*) as people''').data()\n",
    "\n",
    "print(pd.DataFrame(res))\n",
    "# Come si puo' notare le comunita' da 1 solo utente trovate sono 23, esattamente il numero trovato \n",
    "# dallo studio di centralita'.\n",
    "\n",
    "# Il problema pero' dell'algoritmo di labelPropagation e' appunto che propaga un certo id di comunita'\n",
    "# ed in un grafo cosi denso come quello che si ha e' verosimile che lo stesso label arrivi a \n",
    "# molti dei nodi della rete.\n",
    "# Provando infatti algoritmi che ottimizzano i valori coi quali tagliare il dendrogramma si \n",
    "# riceve tutt'altra risposta che e' probabilmente piu' veritiera per un social.\n",
    "# Il numero delle comunita' pero' cala di uno, da 24 a 23 trovate.\n",
    "\n",
    "res = s.run('''call gds.modularityOptimization.stream('follows')\n",
    "        yield nodeId as user, communityId as comm\n",
    "        return distinct comm, count(distinct user) as users''').data()\n",
    "print(pd.DataFrame(res).head(5)) \n",
    "# Si fanno vedere solo le prime 5 comunita' per evitare un output troppo verboso, se si vuole invece\n",
    "# visionare per intero si puo' togliere la funzione .head(5)\n",
    "\n",
    "res = s.run('''call gds.louvain.stream('follows')\n",
    "        yield nodeId as user, communityId as comm\n",
    "        return distinct comm, count(distinct user) as users''').data()\n",
    "#print(pd.DataFrame(res))\n",
    "# Per visionare che anche l'algoritmo di louvain trova le stesse community rispetto a modularityOpt\n",
    "# si uncommenti il print sopra."
   ]
  },
  {
   "cell_type": "markdown",
   "metadata": {},
   "source": [
    "Volendo si può anche provare un'alternativa alla native projection che è la cypher (ma in questo caso sarebbe molto meno performante):\n",
    "```python\n",
    "s.run('''call gds.graph.project.cypher      \n",
    "    ('follow', 'match (u:User) return u.id as id', \n",
    "    'match (a:User)-[r:FOLLOWS]-(b:User)\n",
    "    return distinct a.id as source, \n",
    "    b.id as target, type(r) as type') ''')\n",
    "```\n",
    "\n",
    "Ci troviamo in presenza di un grafico molto connesso in cui la maggior parte degli utenti e' connessa con l'altra.\n",
    "Questo è anche provato dal fatto che usando l'algoritmo di pagerank tutti i nodi hanno valore di score praticamente uguale (0.43) e che la differenza si nota solo dopo la terza cifra decimale.\n",
    "Come si era detto infatti e' possibile che le comunita' piccole, nonostante non seguano nessuno, vengano seguiti (indegree) dandogli cosi un valore non nullo di pageRank."
   ]
  },
  {
   "cell_type": "code",
   "execution_count": null,
   "metadata": {},
   "outputs": [],
   "source": [
    "res = s.run('''call gds.pageRank.stream('follows') yield nodeId, score\n",
    "            return distinct score, count(nodeId) as users''').data()\n",
    "print(str(pd.DataFrame(res)) + '\\n')\n",
    "\n",
    "# Similmente anche per l'algoritmo di articleRank che funziona in modo simile.\n",
    "# Esso usa la media degli outdegree al posto del numero degli outdegree.\n",
    "res = s.run('''call gds.articleRank.stream('follows') yield nodeId, score\n",
    "            return distinct score, count(nodeId) as users''')\n",
    "print(pd.DataFrame(res))"
   ]
  },
  {
   "cell_type": "code",
   "execution_count": null,
   "metadata": {},
   "outputs": [],
   "source": [
    "# Per rinforzare l'ipotesi che il grafo sia fortemente connesso controlliamo l'effective diameter\n",
    "# che è il maggiore degli shortestpath.\n",
    "# Si sceglie di mettere un massimo alla lunghezza in quanto produrrebbe un warning per le performance.\n",
    "# Mettiamo il valore 10 perchè se fosse uno small-world tipicamente non si hanno path > 5,\n",
    "# se fosse un grafo completo il numero sarebbe 1. Quindi per stare larghi decidiamo per 10.\n",
    "# Ricordiamo che il grafo in questione non e' pesato e che quindi ogni arco ha peso 1.\n",
    "res = s.run('''match (a:User)-[r]-(b:User) where a.id < b.id\n",
    "               match p = shortestPath((a)-[*..10]-(b))\n",
    "               return length(p) as diameter order by diameter desc limit 1''').data()\n",
    "print(res)\n",
    "\n",
    "# Un altro modo per trovare il diametro è usando la libreria gds.\n",
    "# Questo e' probabilmente un migliore utilizzo in quanto rendiamo piu' performante la query\n",
    "# su di un set finito di nodi e non su tutto il grafo di partenza.\n",
    "res = s.run('''call gds.allShortestPaths.stream('follows')\n",
    "        yield distance as cost return max(cost)''').data()\n",
    "print(res)\n",
    "\n",
    "\n",
    "# Tutto questo era pero' gia' ipotizzabile solo dalla visione del comando\n",
    "# che elenca le prime 25 relazioni di follows (foto che segue).\n",
    "# Come si nota e' abbastanza denso."
   ]
  },
  {
   "cell_type": "markdown",
   "metadata": {},
   "source": [
    "![follows](media/follow_relationship.png)"
   ]
  },
  {
   "cell_type": "markdown",
   "metadata": {},
   "source": [
    "Avendo visto che non sono individuabili degli utenti piu' influenti si decide di trovare un modo diverso per poter farsi pubblicita' (col proprio account aziendale) su un social di questo tipo.\n",
    "\n",
    "Scegliere il giusto tag per un post e' importante per attirare like e commenti e darsi maggiore visibilita'.\n",
    "Si puo' quindi ipotizzare che parole come 'fun' o 'food' possano avere un peso maggiore contro quelle come 'drunk' e 'stunning'."
   ]
  },
  {
   "cell_type": "code",
   "execution_count": null,
   "metadata": {},
   "outputs": [],
   "source": [
    "# Vediamo quanti post ci sono per ogni tipo di tag trovato.\n",
    "# Come solito creaiamo una proiezione per evitare di sovraccaricare il grafo di partenza \n",
    "s.run('''call gds.graph.project('tagged', ['Post', 'Tag'], 'HAS_TAG')''')\n",
    "\n",
    "res = s.run('''call gds.graph.relationships.stream('tagged')\n",
    "            yield sourceNodeId as p, targetNodeId as t\n",
    "            return distinct gds.util.asNode(t).text as text, count(gds.util.asNode(p)) as posts''').data()\n",
    "\n",
    "df  = pd.DataFrame(res)\n",
    "\n",
    "print(pyplot.pie([float(v) for v in df['posts']], labels=[str(k) for k in df['text']], autopct='%1.0f%%'))"
   ]
  },
  {
   "cell_type": "code",
   "execution_count": null,
   "metadata": {},
   "outputs": [],
   "source": [
    "# Si nota dal grafico che smile, beach, party e fun sono i tag piu' usati.\n",
    "# Guardiamo ora quali sono i tag piu' commentati.\n",
    "s.run('''match (source:Comment)-[]->(:Post)-[]->(target:Tag)\n",
    "      with gds.graph.project('commented',source, target) as g\n",
    "      return g.graphName as graph, g.nodeCount as nodes, g.relationshipCount as rels''')\n",
    "\n",
    "res = s.run('''call gds.graph.relationships.stream('commented')\n",
    "            yield sourceNodeId as c, targetNodeId as t\n",
    "            with gds.util.asNode(t).text as tag, gds.util.asNode(c) as comment\n",
    "            return tag, count(comment) as comments order by comments desc limit 5''').data()\n",
    "\n",
    "print(pd.DataFrame(res))\n",
    "# Si nota che i tag piu' commentati sono anche quelli piu' usati dagli utenti.\n",
    "# Si pone quindi un problema che potra' pero' risolvere solo l'azienda che vuole farsi pubblicita':\n",
    "# usare tag molto gettonati da' davvero visibilita'? In teoria cercando 'smile' non e' detto che \n",
    "# il proprio annuncio esca subito fuori e si rischia che non venga visto.\n",
    "# Inoltre non sempre un'azienda puo' fare una pubblicita' che riporta uno di questi contesti, ad esempio\n",
    "# 'beach' non ha molto senso usarlo per un' azienda che vuole sponsorizzare medicinali."
   ]
  },
  {
   "cell_type": "code",
   "execution_count": null,
   "metadata": {},
   "outputs": [],
   "source": [
    "# Continuiamo pero' con la ricerca e controlliamo quali sono i post con piu' like con un certo tag.\n",
    "res = s.run('''match ()-[r:LIKE]->(p:Post)-->(t:Tag) return p.id as id, \n",
    "      collect(distinct t.text) as tags, count(r) as likes \n",
    "      order by likes desc limit 10''').data()\n",
    "\n",
    "print(pd.DataFrame(res))\n",
    "# I tag visti prima sono anche quelli nel post con piu' like.\n",
    "# A esempio 'smile', che aveva la % maggiore di utilizzo , e' anche quello usato\n",
    "# nei primi 10 post con piu' like.\n",
    "\n",
    "# Si noti come dalle parole chiavi si possa anche ricostruire che tipo di post\n",
    "# potesse essere! Ad esempio il post con id 227 e 201 ci fanno pensare ad una foto di una\n",
    "# spiaggia al tramonto.\n",
    "# Cio' prova quanto sia importante saper riassumere il proprio post\n",
    "# in una pubblicita' per richiamare chi potrebbe essere interessato a quegli argomenti."
   ]
  },
  {
   "cell_type": "markdown",
   "metadata": {},
   "source": [
    "## CONCLUSIONI"
   ]
  },
  {
   "cell_type": "markdown",
   "metadata": {},
   "source": [
    "Purtroppo il dataset scelto non e' accurato e non e' sicuramente vicino ad un social network reale, come si e' appurato piu' di una volta.\n",
    "Nonostante le relazioni di seguace-seguito non dicano granche' abbiamo capito che per scopi pubblicitari ci si puo' servire anche di altri parametri per poter avere piu' visualizzazioni e reaction. Questo e' possibile grazie alla ricerca dei contenuti chiave nella rete.\n",
    "Si e' quindi capito che per attirare l'attenzione degli utenti bisogna usare le parole chiave migliori, ad esempio non viene usato 'lol' ma 'fun' che probabilmente attira maggiormente. \n",
    "Ovviamente per le aziende che vogliono seriamente mettere la loro pubblicita' in gran circolazione conviene anche stipulare degli accordi (pagare) per avere un ranking migliore e quindi apparire piu' frequentemente di altri annunci.\n",
    "\n",
    "Si e' inoltre giunti alla conclusione che esistono dei dati che potrebbero ricadere in problemi di sicurezza. Ovviamente non si e' suggerito all'utente di non fare un account per evitare suddetti problemi, ma ci si e' concentrati sul quanti e quali tipi di dati possono tracciare l'utente e decretarlo via da casa. Il caso peggiore sarebbe quindi quello di avere un account pubblico in cui si mostra la propria nazionalita' e si postano foto quando si e' in vacanza. "
   ]
  },
  {
   "cell_type": "markdown",
   "metadata": {},
   "source": [
    "#### CHIUSURA SESSIONE"
   ]
  },
  {
   "cell_type": "code",
   "execution_count": null,
   "metadata": {},
   "outputs": [],
   "source": [
    "s.close()\n",
    "d.close()"
   ]
  }
 ],
 "metadata": {
  "kernelspec": {
   "display_name": "bigd-n5qokXuP-py3.11",
   "language": "python",
   "name": "python3"
  },
  "language_info": {
   "codemirror_mode": {
    "name": "ipython",
    "version": 3
   },
   "file_extension": ".py",
   "mimetype": "text/x-python",
   "name": "python",
   "nbconvert_exporter": "python",
   "pygments_lexer": "ipython3",
   "version": "3.12.3"
  }
 },
 "nbformat": 4,
 "nbformat_minor": 2
}
